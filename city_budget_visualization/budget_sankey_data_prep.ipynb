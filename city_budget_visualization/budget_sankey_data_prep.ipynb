{
 "cells": [
  {
   "cell_type": "markdown",
   "metadata": {},
   "source": [
    "# Portland City Budget Visualization\n",
    "\n",
    "I have been interested in better understanding the city I live in through data. One of the questions I had immediately was how the city is funded and where does that funding go.\n",
    "\n",
    "## What was currenty available?\n",
    "\n",
    "The city budget office makes available several resources to understand the currently adopted budget as well as the budget process as a whole on [their web portal](https://www.portland.gov/cbo). One of the most useful resources I found was the [Adopted Budget Dashboard](https://public.tableau.com/app/profile/portland.city.budget.office/viz/FY2022-23AdoptedBudgetDashboard/AdoptedDashboard) made available on Tableau Public.\n",
    "\n",
    "The dashboard does a good job of showing the budget by bureau and comparing the bureau’s budget year over year and even allows you to drill down into spending by program. However, it doesn’t do a good job of communicating the overall budget. The data is there, but you have to click into each individual bureau to see it, and you cannot see the relative sizes of the budgets across bureaus. \n",
    "\n",
    "## What I built\n",
    "\n",
    "![Alt text](visualization_screenshot.png)\n",
    "\n",
    "In order to see how the budget was allocated at a high level, I decided to create a Sankey Chart similar to [Open Budget Oakland's Cash Flow Visualization](https://openbudgetoakland.org/budget-flow/) using the dataset underlying the Portland Budget Office's Adopted Budget Dashboard. \n",
    "\n",
    "For the initial stage in the chart, I grouped the budget by Fund. For context, Revenues to the City of Portland are designated and set aside in a large number of seperate funds. The funds are described in the [Volume 2 of the budget overview](https://www.portland.gov/cbo/2022-2023-budget/documents/fy-2022-23-adopted-budget-volume-2-funds-and-capital-projects/download), however in order to improve the readability of the visualization, I choose to aggregate funds based on the Financial Outlook section of [Volume 1 of the budget overview](https://www.portland.gov/cbo/2023-2024-budget/documents/fy-2023-24-adopted-budget-volume-1-citywide-summaries-and-bureau/download). The process I used for aggregating can be found bellow. \n",
    "\n",
    "This was the only change to the data that was extracted from the Adopted Budget Dashboard. \n",
    "\n",
    "I've published my [Portland Budget Flow](https://public.tableau.com/app/profile/luke.duncan7166/viz/PortlandBudgetSankey/BudgetSankey) visualiztion and data on Tableau Public. \n",
    "\n",
    "## Data processing"
   ]
  },
  {
   "cell_type": "code",
   "execution_count": 1,
   "metadata": {},
   "outputs": [],
   "source": [
    "import pandas as pd"
   ]
  },
  {
   "cell_type": "code",
   "execution_count": 5,
   "metadata": {},
   "outputs": [],
   "source": [
    "# the data folder is not uploaded to github due to size, to reproduce you will need to get the source data file from the Adopted Budget Dashboard. \n",
    "df = pd.read_csv('data/fy_2021_dshbrd_dataset_ADOPTED_BUDGET_DASHBOARD_FY_2021-22_DATAFILE.csv', header=0)"
   ]
  },
  {
   "cell_type": "code",
   "execution_count": 6,
   "metadata": {},
   "outputs": [],
   "source": [
    "# The General Fund, Sewer System Operating Fund, Water Fund, and Transportation Operating Fund were identified as \"Major Funds\" in the Budget Overview document\n",
    "major_funds = [\"100000 - General Fund\", \"600000 - Sewer System Operating\", \"602000 - Water\", \"200000 - Transportation Operating\"] \n",
    "\n",
    "# Create a new column where we will replace all \"Non-majort\" funds with \"All Other Funds\"\n",
    "df[\"Fund - Agg\"] = df[\"Fund - Name\"]\n",
    "df.loc[~df[\"Fund - Agg\"].isin(major_funds), \"Fund - Agg\"] = \"All Other Funds\""
   ]
  },
  {
   "cell_type": "code",
   "execution_count": 7,
   "metadata": {},
   "outputs": [],
   "source": [
    "# Rename the remaining Funds to remove codes for better readability. \n",
    "fund_dict = {\"100000 - General Fund\": \"General Fund\", \"602000 - Water\": \"Water\", \"600000 - Sewer System Operating\": \"Sewer System Operating\", \"200000 - Transportation Operating\": \"Transportation Operating\"}\n",
    "df[\"Fund - Agg\"] = df[\"Fund - Agg\"].replace(fund_dict)\n",
    "\n",
    "df.to_csv('data/adopted_budget_funds_grouped.csv', header=True)"
   ]
  },
  {
   "cell_type": "markdown",
   "metadata": {},
   "source": [
    "## Possible Improvements\n",
    "\n",
    "1. Currently there is not a native way to implement a Sankey chart in Tableau, A pilot was released with this functionality but was not available at the time I worked on this. The chart was made using a Sankey visualization template that relies on calculated fields to create the flows. In the future when the native feature is released it would be much cleaner to leverage that functionality. \n",
    "\n",
    "2. There may be a better way to group funds, or we could add the Fund overview of the from volume two of the budget document to the dataset and enable the overview when the user hovers over the fund. \n",
    "\n",
    "3. Currently the chart calculates the relative proportion of the flow, but does not surface the dollar value of the flow, this may be useful. "
   ]
  }
 ],
 "metadata": {
  "kernelspec": {
   "display_name": "Python 3",
   "language": "python",
   "name": "python3"
  },
  "language_info": {
   "codemirror_mode": {
    "name": "ipython",
    "version": 3
   },
   "file_extension": ".py",
   "mimetype": "text/x-python",
   "name": "python",
   "nbconvert_exporter": "python",
   "pygments_lexer": "ipython3",
   "version": "3.11.3"
  },
  "orig_nbformat": 4
 },
 "nbformat": 4,
 "nbformat_minor": 2
}
